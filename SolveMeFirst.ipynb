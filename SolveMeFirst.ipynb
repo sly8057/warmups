{
 "cells": [
  {
   "cell_type": "markdown",
   "metadata": {},
   "source": [
    "# Solve Me First\n",
    "Complete the function `solveMeFirst` to compute the sum of two integers.\n",
    "## Example\n",
    "a = 7\n",
    "b = 3\n",
    "Return 10\n",
    "## Function Description\n",
    "Complete the `solveMeFirst` function with the following parameters:\n",
    "- *int a*: the first value\n",
    "- *int b*: the second value\n",
    "Returns\n",
    "- *int*: the sum of *a* and *b*"
   ]
  },
  {
   "cell_type": "code",
   "execution_count": null,
   "metadata": {
    "vscode": {
     "languageId": "plaintext"
    }
   },
   "outputs": [],
   "source": []
  },
  {
   "cell_type": "markdown",
   "metadata": {},
   "source": []
  },
  {
   "cell_type": "code",
   "execution_count": null,
   "metadata": {
    "vscode": {
     "languageId": "plaintext"
    }
   },
   "outputs": [],
   "source": []
  }
 ],
 "metadata": {
  "language_info": {
   "name": "python"
  }
 },
 "nbformat": 4,
 "nbformat_minor": 2
}
