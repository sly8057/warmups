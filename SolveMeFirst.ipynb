{
 "cells": [
  {
   "cell_type": "markdown",
   "metadata": {},
   "source": [
    "# Solve Me First\n",
    "Complete the function `solveMeFirst` to compute the sum of two integers.\n",
    "\n",
    "## Example\n",
    "a = 7\n",
    "\n",
    "b = 3\n",
    "\n",
    "Return 10\n",
    "\n",
    "## Function Description\n",
    "Complete the `solveMeFirst` function with the following parameters:\n",
    "\n",
    "- *int a*: the first value\n",
    "\n",
    "- *int b*: the second value\n",
    "\n",
    "Returns\n",
    "\n",
    "- *int*: the sum of *a* and *b*\n",
    "\n",
    "## Constraints\n",
    "1 <= *a, b* <= 1000\n",
    "\n",
    "## Sample\n",
    "\n",
    "### Input\n",
    "a = 2\n",
    "\n",
    "b = 3\n",
    "\n",
    "### Output\n",
    "5\n",
    "\n",
    "### Explanation\n",
    "2 + 3 = 5"
   ]
  },
  {
   "cell_type": "code",
   "execution_count": 1,
   "metadata": {},
   "outputs": [
    {
     "name": "stdout",
     "output_type": "stream",
     "text": [
      "5\n"
     ]
    }
   ],
   "source": [
    "def solveMeFirst(a,b):\n",
    "\t# Hint: Type return a+b below\n",
    "    return a + b\n",
    "\n",
    "num1 = int(input())\n",
    "num2 = int(input())\n",
    "res = solveMeFirst(num1,num2)\n",
    "print(res)"
   ]
  },
  {
   "cell_type": "markdown",
   "metadata": {},
   "source": []
  }
 ],
 "metadata": {
  "kernelspec": {
   "display_name": "Python 3",
   "language": "python",
   "name": "python3"
  },
  "language_info": {
   "codemirror_mode": {
    "name": "ipython",
    "version": 3
   },
   "file_extension": ".py",
   "mimetype": "text/x-python",
   "name": "python",
   "nbconvert_exporter": "python",
   "pygments_lexer": "ipython3",
   "version": "3.13.2"
  }
 },
 "nbformat": 4,
 "nbformat_minor": 2
}
