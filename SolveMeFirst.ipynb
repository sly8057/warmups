{
 "cells": [
  {
   "cell_type": "markdown",
   "metadata": {},
   "source": [
    "# Solve Me First\n",
    "Complete the function `solveMeFirst` to compute the sum of two integers.\n",
    "\n",
    "## Example\n",
    "a = 7\n",
    "\n",
    "b = 3\n",
    "\n",
    "Return 10\n",
    "\n",
    "## Function Description\n",
    "Complete the `solveMeFirst` function with the following parameters:\n",
    "\n",
    "- *int a*: the first value\n",
    "\n",
    "- *int b*: the second value\n",
    "\n",
    "Returns\n",
    "\n",
    "- *int*: the sum of *a* and *b*\n",
    "\n",
    "## Constraints\n",
    "1 <= *a, b* <= 1000\n",
    "\n",
    "## Sample\n",
    "\n",
    "### Input\n",
    "a = 2\n",
    "\n",
    "b = 3\n",
    "\n",
    "### Output\n",
    "5\n",
    "\n",
    "### Explanation\n",
    "2 + 3 = 5"
   ]
  },
  {
   "cell_type": "markdown",
   "metadata": {},
   "source": [
    "## Without constraints"
   ]
  },
  {
   "cell_type": "code",
   "execution_count": 3,
   "metadata": {},
   "outputs": [
    {
     "name": "stdout",
     "output_type": "stream",
     "text": [
      "5\n"
     ]
    }
   ],
   "source": [
    "def solveMeFirst(a,b):\n",
    "\t# Hint: Type return a+b below\n",
    "    return a + b\n",
    "\n",
    "num1 = int(input())\n",
    "num2 = int(input())\n",
    "res = solveMeFirst(num1,num2)\n",
    "print(res)"
   ]
  },
  {
   "cell_type": "markdown",
   "metadata": {},
   "source": [
    "## With constraints"
   ]
  },
  {
   "cell_type": "markdown",
   "metadata": {},
   "source": [
    "### Input validation with `if` statements\n",
    "Ensure `a` and `b`are within the given range."
   ]
  },
  {
   "cell_type": "code",
   "execution_count": null,
   "metadata": {},
   "outputs": [
    {
     "name": "stdout",
     "output_type": "stream",
     "text": [
      "5\n"
     ]
    }
   ],
   "source": [
    "def solveMeFirst(a, b):\n",
    "\tif (1 <= a <= 1000 and 1 <= b <= 1000):\n",
    "\t\treturn a + b\n",
    "\telse:\n",
    "\t\traise ValueError(\"Input values should be between 1 and 1000\")\n",
    "\n",
    "num1 = int(input())\n",
    "num2 = int(input())\n",
    "\n",
    "try:\n",
    "\tprint(solveMeFirst(num1,num2))\n",
    "except ValueError as e:\n",
    "\tprint(e)"
   ]
  },
  {
   "cell_type": "markdown",
   "metadata": {},
   "source": [
    "### Use `assertions`\n",
    "Ensures that inputs always follow the rules."
   ]
  },
  {
   "cell_type": "code",
   "execution_count": 4,
   "metadata": {},
   "outputs": [
    {
     "name": "stdout",
     "output_type": "stream",
     "text": [
      "5\n"
     ]
    }
   ],
   "source": [
    "def solveMeFirst(a,b):\n",
    "\tassert 1 <= a <= 1000, \"'a' is out of range\"\n",
    "\tassert 1 <= b <= 1000, \"'b' is out of range\"\n",
    "\treturn a + b\n",
    "\n",
    "num1 = int(input())\n",
    "num2 = int(input())\n",
    "res = solveMeFirst(num1,num2)\n",
    "print(res)"
   ]
  },
  {
   "cell_type": "markdown",
   "metadata": {},
   "source": [
    "`assert` se usa para comprobar si una condición es **verdadera**. Si la condición es **falsa**, se lanza un `AssertionError` y el programa se detiene.\n",
    "\n",
    "Es una forma sencilla de hacer validaciones sin escribir mucho código."
   ]
  },
  {
   "cell_type": "markdown",
   "metadata": {},
   "source": [
    "### Use `type checking`\n",
    "Ensures inputs are integers."
   ]
  },
  {
   "cell_type": "code",
   "execution_count": 5,
   "metadata": {},
   "outputs": [
    {
     "name": "stdout",
     "output_type": "stream",
     "text": [
      "5\n"
     ]
    }
   ],
   "source": [
    "def solveMeFirst(a,b):\n",
    "\tif not (isinstance(a, int) and isinstance(b, int)):\n",
    "\t\traise TypeError(\"Inputs must be integers\")\n",
    "\tif not (1 <= a <= 1000 and 1 <= b <= 1000):\n",
    "\t\traise ValueError(\"Inputs must be between 1 and 1000\")\n",
    "\treturn a + b\n",
    "\n",
    "num1 = int(input())\n",
    "num2 = int(input())\n",
    "res = solveMeFirst(num1,num2)\n",
    "print(res)"
   ]
  }
 ],
 "metadata": {
  "kernelspec": {
   "display_name": "Python 3",
   "language": "python",
   "name": "python3"
  },
  "language_info": {
   "codemirror_mode": {
    "name": "ipython",
    "version": 3
   },
   "file_extension": ".py",
   "mimetype": "text/x-python",
   "name": "python",
   "nbconvert_exporter": "python",
   "pygments_lexer": "ipython3",
   "version": "3.13.2"
  }
 },
 "nbformat": 4,
 "nbformat_minor": 2
}
